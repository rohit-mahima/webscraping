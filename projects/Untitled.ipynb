{
 "cells": [
  {
   "cell_type": "code",
   "execution_count": 1,
   "id": "006ff1be",
   "metadata": {},
   "outputs": [
    {
     "name": "stdout",
     "output_type": "stream",
     "text": [
      "hello world\n"
     ]
    }
   ],
   "source": [
    "print(\"hello world\")"
   ]
  },
  {
   "cell_type": "code",
   "execution_count": 14,
   "id": "ea446858",
   "metadata": {},
   "outputs": [],
   "source": [
    "v='this is my fisrt notebook'"
   ]
  },
  {
   "cell_type": "code",
   "execution_count": 15,
   "id": "4dffb7e8",
   "metadata": {},
   "outputs": [
    {
     "name": "stdout",
     "output_type": "stream",
     "text": [
      "this is my fisrt notebook\n"
     ]
    }
   ],
   "source": [
    "print(v)"
   ]
  },
  {
   "cell_type": "code",
   "execution_count": 16,
   "id": "f33cfd74",
   "metadata": {},
   "outputs": [
    {
     "name": "stdout",
     "output_type": "stream",
     "text": [
      "<class 'str'>\n"
     ]
    }
   ],
   "source": [
    "print(type(v))"
   ]
  },
  {
   "cell_type": "code",
   "execution_count": 17,
   "id": "0b192336",
   "metadata": {},
   "outputs": [],
   "source": [
    "w=[1,'amrita',True]"
   ]
  },
  {
   "cell_type": "code",
   "execution_count": 18,
   "id": "45d44203",
   "metadata": {},
   "outputs": [
    {
     "name": "stdout",
     "output_type": "stream",
     "text": [
      "[1, 'amrita', True]\n"
     ]
    }
   ],
   "source": [
    "print(w)"
   ]
  },
  {
   "cell_type": "code",
   "execution_count": 19,
   "id": "6fba1145",
   "metadata": {},
   "outputs": [
    {
     "name": "stdout",
     "output_type": "stream",
     "text": [
      "<class 'list'>\n"
     ]
    }
   ],
   "source": [
    "print(type(w))"
   ]
  },
  {
   "cell_type": "code",
   "execution_count": 20,
   "id": "9dcc01c5",
   "metadata": {},
   "outputs": [
    {
     "ename": "NameError",
     "evalue": "name 'rohit' is not defined",
     "output_type": "error",
     "traceback": [
      "\u001b[0;31m---------------------------------------------------------------------------\u001b[0m",
      "\u001b[0;31mNameError\u001b[0m                                 Traceback (most recent call last)",
      "Input \u001b[0;32mIn [20]\u001b[0m, in \u001b[0;36m<cell line: 1>\u001b[0;34m()\u001b[0m\n\u001b[0;32m----> 1\u001b[0m v\u001b[38;5;241m=\u001b[39m\u001b[43mrohit\u001b[49m\n",
      "\u001b[0;31mNameError\u001b[0m: name 'rohit' is not defined"
     ]
    }
   ],
   "source": [
    "v=rohit"
   ]
  },
  {
   "cell_type": "code",
   "execution_count": 21,
   "id": "2315f108",
   "metadata": {},
   "outputs": [],
   "source": [
    "rohit=\"amrita\""
   ]
  },
  {
   "cell_type": "code",
   "execution_count": 22,
   "id": "5d7f4b3c",
   "metadata": {},
   "outputs": [],
   "source": [
    "v=rohit"
   ]
  },
  {
   "cell_type": "code",
   "execution_count": 23,
   "id": "e5dc4af6",
   "metadata": {},
   "outputs": [],
   "source": [
    "rohit='i love amrita'"
   ]
  },
  {
   "cell_type": "code",
   "execution_count": 24,
   "id": "e1b6ce20",
   "metadata": {},
   "outputs": [
    {
     "name": "stdout",
     "output_type": "stream",
     "text": [
      "<class 'str'>\n"
     ]
    }
   ],
   "source": [
    "print(type(rohit))"
   ]
  },
  {
   "cell_type": "code",
   "execution_count": 25,
   "id": "43440962",
   "metadata": {},
   "outputs": [],
   "source": [
    "rohit=('1','2.5','4','rohit')"
   ]
  },
  {
   "cell_type": "code",
   "execution_count": 26,
   "id": "feb04e47",
   "metadata": {},
   "outputs": [
    {
     "name": "stdout",
     "output_type": "stream",
     "text": [
      "<class 'tuple'>\n"
     ]
    }
   ],
   "source": [
    "print(type(rohit))"
   ]
  },
  {
   "cell_type": "code",
   "execution_count": 27,
   "id": "9f79eeae",
   "metadata": {},
   "outputs": [],
   "source": [
    "r='1'"
   ]
  },
  {
   "cell_type": "code",
   "execution_count": 28,
   "id": "c51ef863",
   "metadata": {},
   "outputs": [
    {
     "data": {
      "text/plain": [
       "str"
      ]
     },
     "execution_count": 28,
     "metadata": {},
     "output_type": "execute_result"
    }
   ],
   "source": [
    "type(r)"
   ]
  },
  {
   "cell_type": "code",
   "execution_count": 29,
   "id": "d7554b88",
   "metadata": {},
   "outputs": [],
   "source": [
    "r=1"
   ]
  },
  {
   "cell_type": "code",
   "execution_count": 30,
   "id": "2de43388",
   "metadata": {},
   "outputs": [
    {
     "data": {
      "text/plain": [
       "int"
      ]
     },
     "execution_count": 30,
     "metadata": {},
     "output_type": "execute_result"
    }
   ],
   "source": [
    "type(r)"
   ]
  },
  {
   "cell_type": "code",
   "execution_count": 31,
   "id": "2ae05b75",
   "metadata": {},
   "outputs": [],
   "source": [
    "r=[1]"
   ]
  },
  {
   "cell_type": "code",
   "execution_count": 32,
   "id": "b9bb6673",
   "metadata": {},
   "outputs": [
    {
     "data": {
      "text/plain": [
       "list"
      ]
     },
     "execution_count": 32,
     "metadata": {},
     "output_type": "execute_result"
    }
   ],
   "source": [
    "type(r)"
   ]
  },
  {
   "cell_type": "code",
   "execution_count": 36,
   "id": "6d7866cf",
   "metadata": {},
   "outputs": [],
   "source": [
    "r=(1,2)"
   ]
  },
  {
   "cell_type": "code",
   "execution_count": 37,
   "id": "19ec97b2",
   "metadata": {},
   "outputs": [
    {
     "data": {
      "text/plain": [
       "tuple"
      ]
     },
     "execution_count": 37,
     "metadata": {},
     "output_type": "execute_result"
    }
   ],
   "source": [
    "type(r)"
   ]
  },
  {
   "cell_type": "code",
   "execution_count": 38,
   "id": "040f80a7",
   "metadata": {},
   "outputs": [
    {
     "ename": "NameError",
     "evalue": "name 'c' is not defined",
     "output_type": "error",
     "traceback": [
      "\u001b[0;31m---------------------------------------------------------------------------\u001b[0m",
      "\u001b[0;31mNameError\u001b[0m                                 Traceback (most recent call last)",
      "Input \u001b[0;32mIn [38]\u001b[0m, in \u001b[0;36m<cell line: 1>\u001b[0;34m()\u001b[0m\n\u001b[0;32m----> 1\u001b[0m r\u001b[38;5;241m=\u001b[39m\u001b[43mc\u001b[49m(\u001b[38;5;241m151\u001b[39m,\u001b[38;5;241m1671\u001b[39m)\n",
      "\u001b[0;31mNameError\u001b[0m: name 'c' is not defined"
     ]
    }
   ],
   "source": [
    "r=c(151,1671)"
   ]
  },
  {
   "cell_type": "code",
   "execution_count": 39,
   "id": "fbf17bd6",
   "metadata": {},
   "outputs": [],
   "source": [
    "r=[151,167]"
   ]
  },
  {
   "cell_type": "code",
   "execution_count": 42,
   "id": "46f8c126",
   "metadata": {},
   "outputs": [],
   "source": [
    "def my_fun(fun): #writing custom decorators\n",
    "    print(\"this is previous\")\n",
    "    fun()\n",
    "    print(\"this is after\")\n",
    "    \n"
   ]
  },
  {
   "cell_type": "code",
   "execution_count": 43,
   "id": "af1bdb8a",
   "metadata": {},
   "outputs": [
    {
     "name": "stdout",
     "output_type": "stream",
     "text": [
      "this is previous\n",
      "True\n",
      "this is after\n"
     ]
    }
   ],
   "source": [
    "@my_fun\n",
    "def hello():\n",
    "    print(True)"
   ]
  },
  {
   "cell_type": "code",
   "execution_count": null,
   "id": "3ef35cab",
   "metadata": {},
   "outputs": [],
   "source": []
  }
 ],
 "metadata": {
  "kernelspec": {
   "display_name": "Python 3 (ipykernel)",
   "language": "python",
   "name": "python3"
  },
  "language_info": {
   "codemirror_mode": {
    "name": "ipython",
    "version": 3
   },
   "file_extension": ".py",
   "mimetype": "text/x-python",
   "name": "python",
   "nbconvert_exporter": "python",
   "pygments_lexer": "ipython3",
   "version": "3.9.13"
  }
 },
 "nbformat": 4,
 "nbformat_minor": 5
}
