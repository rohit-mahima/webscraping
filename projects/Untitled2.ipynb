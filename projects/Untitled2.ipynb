{
 "cells": [
  {
   "cell_type": "code",
   "execution_count": 1,
   "id": "0615588d",
   "metadata": {},
   "outputs": [],
   "source": [
    "shell=2\n"
   ]
  },
  {
   "cell_type": "code",
   "execution_count": 2,
   "id": "84c672e1",
   "metadata": {},
   "outputs": [
    {
     "ename": "NameError",
     "evalue": "name 'entry' is not defined",
     "output_type": "error",
     "traceback": [
      "\u001b[0;31m---------------------------------------------------------------------------\u001b[0m",
      "\u001b[0;31mNameError\u001b[0m                                 Traceback (most recent call last)",
      "Input \u001b[0;32mIn [2]\u001b[0m, in \u001b[0;36m<cell line: 1>\u001b[0;34m()\u001b[0m\n\u001b[0;32m----> 1\u001b[0m \u001b[38;5;28mprint\u001b[39m(\u001b[43mentry\u001b[49m)\n",
      "\u001b[0;31mNameError\u001b[0m: name 'entry' is not defined"
     ]
    }
   ],
   "source": [
    "print(entry)"
   ]
  },
  {
   "cell_type": "code",
   "execution_count": 6,
   "id": "0b0c5df2",
   "metadata": {},
   "outputs": [],
   "source": [
    "import pickle\n",
    "with open('entry.pickle','rb') as f:\n",
    "    entry=pickle.load(f)\n",
    "     #   entry=pickle.dump(f)"
   ]
  },
  {
   "cell_type": "code",
   "execution_count": 7,
   "id": "eac52ee7",
   "metadata": {},
   "outputs": [
    {
     "name": "stdout",
     "output_type": "stream",
     "text": [
      "{'titile': 'dive int the history', 'article_link': 'something', 'comment': None, 'published_date': time.struct_time(tm_year=2009, tm_mon=3, tm_mday=27, tm_hour=22, tm_min=20, tm_sec=42, tm_wday=4, tm_yday=86, tm_isdst=-1)}\n"
     ]
    }
   ],
   "source": [
    "print(entry)"
   ]
  },
  {
   "cell_type": "code",
   "execution_count": 8,
   "id": "8e437aa6",
   "metadata": {},
   "outputs": [],
   "source": [
    "#replacing pickle with json"
   ]
  },
  {
   "cell_type": "code",
   "execution_count": 9,
   "id": "24e9ec04",
   "metadata": {},
   "outputs": [],
   "source": [
    "shell=1"
   ]
  },
  {
   "cell_type": "code",
   "execution_count": 10,
   "id": "d2294dc4",
   "metadata": {},
   "outputs": [],
   "source": [
    "basic_entry={}"
   ]
  },
  {
   "cell_type": "code",
   "execution_count": 11,
   "id": "5131c827",
   "metadata": {},
   "outputs": [],
   "source": [
    "basic_entry['id']=256\n"
   ]
  },
  {
   "cell_type": "code",
   "execution_count": 12,
   "id": "c727b7a1",
   "metadata": {},
   "outputs": [],
   "source": [
    "basic_entry['title']='dive into history '"
   ]
  },
  {
   "cell_type": "code",
   "execution_count": 13,
   "id": "39a68382",
   "metadata": {},
   "outputs": [],
   "source": [
    "basic_entry['published']=True"
   ]
  },
  {
   "cell_type": "code",
   "execution_count": 14,
   "id": "4868ee46",
   "metadata": {},
   "outputs": [],
   "source": [
    "import json"
   ]
  },
  {
   "cell_type": "code",
   "execution_count": 15,
   "id": "91f7c529",
   "metadata": {},
   "outputs": [],
   "source": [
    "with open('basic.json', 'w', encoding='utf-8') as f:\n",
    "    json.dump(basic_entry,f)"
   ]
  },
  {
   "cell_type": "code",
   "execution_count": 16,
   "id": "b3d0a8e2",
   "metadata": {},
   "outputs": [
    {
     "name": "stdout",
     "output_type": "stream",
     "text": [
      "{\"id\": 256, \"title\": \"dive into history \", \"published\": true}"
     ]
    }
   ],
   "source": [
    "cat basic.json"
   ]
  },
  {
   "cell_type": "code",
   "execution_count": null,
   "id": "f2d7f1b6",
   "metadata": {},
   "outputs": [],
   "source": []
  }
 ],
 "metadata": {
  "kernelspec": {
   "display_name": "Python 3 (ipykernel)",
   "language": "python",
   "name": "python3"
  },
  "language_info": {
   "codemirror_mode": {
    "name": "ipython",
    "version": 3
   },
   "file_extension": ".py",
   "mimetype": "text/x-python",
   "name": "python",
   "nbconvert_exporter": "python",
   "pygments_lexer": "ipython3",
   "version": "3.9.13"
  }
 },
 "nbformat": 4,
 "nbformat_minor": 5
}
