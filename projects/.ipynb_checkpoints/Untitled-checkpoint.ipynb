{
 "cells": [
  {
   "cell_type": "code",
   "execution_count": 1,
   "id": "49dd86ce",
   "metadata": {},
   "outputs": [
    {
     "name": "stdout",
     "output_type": "stream",
     "text": [
      "hello world\n"
     ]
    }
   ],
   "source": [
    "print(\"hello world\")"
   ]
  },
  {
   "cell_type": "code",
   "execution_count": 14,
   "id": "a641d1f0",
   "metadata": {},
   "outputs": [],
   "source": [
    "v='this is my fisrt notebook'"
   ]
  },
  {
   "cell_type": "code",
   "execution_count": 15,
   "id": "20186201",
   "metadata": {},
   "outputs": [
    {
     "name": "stdout",
     "output_type": "stream",
     "text": [
      "this is my fisrt notebook\n"
     ]
    }
   ],
   "source": [
    "print(v)"
   ]
  },
  {
   "cell_type": "code",
   "execution_count": 16,
   "id": "6352291c",
   "metadata": {},
   "outputs": [
    {
     "name": "stdout",
     "output_type": "stream",
     "text": [
      "<class 'str'>\n"
     ]
    }
   ],
   "source": [
    "print(type(v))"
   ]
  },
  {
   "cell_type": "code",
   "execution_count": 17,
   "id": "8e4da492",
   "metadata": {},
   "outputs": [],
   "source": [
    "w=[1,'amrita',True]"
   ]
  },
  {
   "cell_type": "code",
   "execution_count": 18,
   "id": "f2bb3ec0",
   "metadata": {},
   "outputs": [
    {
     "name": "stdout",
     "output_type": "stream",
     "text": [
      "[1, 'amrita', True]\n"
     ]
    }
   ],
   "source": [
    "print(w)"
   ]
  },
  {
   "cell_type": "code",
   "execution_count": 19,
   "id": "044b8dfc",
   "metadata": {},
   "outputs": [
    {
     "name": "stdout",
     "output_type": "stream",
     "text": [
      "<class 'list'>\n"
     ]
    }
   ],
   "source": [
    "print(type(w))"
   ]
  },
  {
   "cell_type": "code",
   "execution_count": 20,
   "id": "5c1a25fb",
   "metadata": {},
   "outputs": [
    {
     "ename": "NameError",
     "evalue": "name 'rohit' is not defined",
     "output_type": "error",
     "traceback": [
      "\u001b[0;31m---------------------------------------------------------------------------\u001b[0m",
      "\u001b[0;31mNameError\u001b[0m                                 Traceback (most recent call last)",
      "Input \u001b[0;32mIn [20]\u001b[0m, in \u001b[0;36m<cell line: 1>\u001b[0;34m()\u001b[0m\n\u001b[0;32m----> 1\u001b[0m v\u001b[38;5;241m=\u001b[39m\u001b[43mrohit\u001b[49m\n",
      "\u001b[0;31mNameError\u001b[0m: name 'rohit' is not defined"
     ]
    }
   ],
   "source": [
    "v=rohit"
   ]
  },
  {
   "cell_type": "code",
   "execution_count": 21,
   "id": "dfc386d3",
   "metadata": {},
   "outputs": [],
   "source": [
    "rohit=\"amrita\""
   ]
  },
  {
   "cell_type": "code",
   "execution_count": 22,
   "id": "6f3b8420",
   "metadata": {},
   "outputs": [],
   "source": [
    "v=rohit"
   ]
  },
  {
   "cell_type": "code",
   "execution_count": 23,
   "id": "f8d6d4fe",
   "metadata": {},
   "outputs": [],
   "source": [
    "rohit='i love amrita'"
   ]
  },
  {
   "cell_type": "code",
   "execution_count": 24,
   "id": "908555d4",
   "metadata": {},
   "outputs": [
    {
     "name": "stdout",
     "output_type": "stream",
     "text": [
      "<class 'str'>\n"
     ]
    }
   ],
   "source": [
    "print(type(rohit))"
   ]
  },
  {
   "cell_type": "code",
   "execution_count": 25,
   "id": "4e1f2584",
   "metadata": {},
   "outputs": [],
   "source": [
    "rohit=('1','2.5','4','rohit')"
   ]
  },
  {
   "cell_type": "code",
   "execution_count": 26,
   "id": "1b40e8e2",
   "metadata": {},
   "outputs": [
    {
     "name": "stdout",
     "output_type": "stream",
     "text": [
      "<class 'tuple'>\n"
     ]
    }
   ],
   "source": [
    "print(type(rohit))"
   ]
  },
  {
   "cell_type": "code",
   "execution_count": 27,
   "id": "14d66488",
   "metadata": {},
   "outputs": [],
   "source": [
    "r='1'"
   ]
  },
  {
   "cell_type": "code",
   "execution_count": 28,
   "id": "f2dec1dc",
   "metadata": {},
   "outputs": [
    {
     "data": {
      "text/plain": [
       "str"
      ]
     },
     "execution_count": 28,
     "metadata": {},
     "output_type": "execute_result"
    }
   ],
   "source": [
    "type(r)"
   ]
  },
  {
   "cell_type": "code",
   "execution_count": 29,
   "id": "bd50c261",
   "metadata": {},
   "outputs": [],
   "source": [
    "r=1"
   ]
  },
  {
   "cell_type": "code",
   "execution_count": 30,
   "id": "0727de59",
   "metadata": {},
   "outputs": [
    {
     "data": {
      "text/plain": [
       "int"
      ]
     },
     "execution_count": 30,
     "metadata": {},
     "output_type": "execute_result"
    }
   ],
   "source": [
    "type(r)"
   ]
  },
  {
   "cell_type": "code",
   "execution_count": 31,
   "id": "bcaf6fc7",
   "metadata": {},
   "outputs": [],
   "source": [
    "r=[1]"
   ]
  },
  {
   "cell_type": "code",
   "execution_count": 32,
   "id": "89e9d213",
   "metadata": {},
   "outputs": [
    {
     "data": {
      "text/plain": [
       "list"
      ]
     },
     "execution_count": 32,
     "metadata": {},
     "output_type": "execute_result"
    }
   ],
   "source": [
    "type(r)"
   ]
  },
  {
   "cell_type": "code",
   "execution_count": 36,
   "id": "5cac33e5",
   "metadata": {},
   "outputs": [],
   "source": [
    "r=(1,2)"
   ]
  },
  {
   "cell_type": "code",
   "execution_count": 37,
   "id": "60d2d931",
   "metadata": {},
   "outputs": [
    {
     "data": {
      "text/plain": [
       "tuple"
      ]
     },
     "execution_count": 37,
     "metadata": {},
     "output_type": "execute_result"
    }
   ],
   "source": [
    "type(r)"
   ]
  },
  {
   "cell_type": "code",
   "execution_count": 38,
   "id": "b95d1a35",
   "metadata": {},
   "outputs": [
    {
     "ename": "NameError",
     "evalue": "name 'c' is not defined",
     "output_type": "error",
     "traceback": [
      "\u001b[0;31m---------------------------------------------------------------------------\u001b[0m",
      "\u001b[0;31mNameError\u001b[0m                                 Traceback (most recent call last)",
      "Input \u001b[0;32mIn [38]\u001b[0m, in \u001b[0;36m<cell line: 1>\u001b[0;34m()\u001b[0m\n\u001b[0;32m----> 1\u001b[0m r\u001b[38;5;241m=\u001b[39m\u001b[43mc\u001b[49m(\u001b[38;5;241m151\u001b[39m,\u001b[38;5;241m1671\u001b[39m)\n",
      "\u001b[0;31mNameError\u001b[0m: name 'c' is not defined"
     ]
    }
   ],
   "source": [
    "r=c(151,1671)"
   ]
  },
  {
   "cell_type": "code",
   "execution_count": 39,
   "id": "f64076f4",
   "metadata": {},
   "outputs": [],
   "source": [
    "r=[151,167]"
   ]
  },
  {
   "cell_type": "code",
   "execution_count": 40,
   "id": "93e465e4",
   "metadata": {},
   "outputs": [],
   "source": [
    "def my_fun(fun): #writing custom decorators\n",
    "    print(\"this is previous\")\n",
    "    fun()\n",
    "    print(\"this is after\")\n",
    "    \n"
   ]
  },
  {
   "cell_type": "code",
   "execution_count": 41,
   "id": "a7eedf68",
   "metadata": {},
   "outputs": [
    {
     "name": "stdout",
     "output_type": "stream",
     "text": [
      "this is previous\n",
      "True\n",
      "this is after\n"
     ]
    }
   ],
   "source": [
    "@my_fun\n",
    "def hello():\n",
    "    print(True)"
   ]
  },
  {
   "cell_type": "code",
   "execution_count": null,
   "id": "58aa34b6",
   "metadata": {},
   "outputs": [],
   "source": []
  }
 ],
 "metadata": {
  "kernelspec": {
   "display_name": "Python 3 (ipykernel)",
   "language": "python",
   "name": "python3"
  },
  "language_info": {
   "codemirror_mode": {
    "name": "ipython",
    "version": 3
   },
   "file_extension": ".py",
   "mimetype": "text/x-python",
   "name": "python",
   "nbconvert_exporter": "python",
   "pygments_lexer": "ipython3",
   "version": "3.9.13"
  }
 },
 "nbformat": 4,
 "nbformat_minor": 5
}
