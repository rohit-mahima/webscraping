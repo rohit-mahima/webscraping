{
 "cells": [
  {
   "cell_type": "code",
   "execution_count": 1,
   "id": "5cf4f347",
   "metadata": {},
   "outputs": [],
   "source": [
    "shell=1"
   ]
  },
  {
   "cell_type": "code",
   "execution_count": 2,
   "id": "f0236730",
   "metadata": {},
   "outputs": [],
   "source": [
    "shell=2"
   ]
  },
  {
   "cell_type": "code",
   "execution_count": 3,
   "id": "e9bdbfac",
   "metadata": {},
   "outputs": [],
   "source": [
    "shell=1\n"
   ]
  },
  {
   "cell_type": "code",
   "execution_count": 4,
   "id": "42ef07b7",
   "metadata": {},
   "outputs": [
    {
     "name": "stdout",
     "output_type": "stream",
     "text": [
      "1\n"
     ]
    }
   ],
   "source": [
    "print(shell)"
   ]
  },
  {
   "cell_type": "code",
   "execution_count": 5,
   "id": "2b63e27b",
   "metadata": {},
   "outputs": [],
   "source": [
    "entry={}"
   ]
  },
  {
   "cell_type": "code",
   "execution_count": 6,
   "id": "87b71c96",
   "metadata": {},
   "outputs": [],
   "source": [
    "entry['titile']='dive int the history'"
   ]
  },
  {
   "cell_type": "code",
   "execution_count": 7,
   "id": "63939898",
   "metadata": {},
   "outputs": [],
   "source": [
    "entry['article_link']='something'"
   ]
  },
  {
   "cell_type": "code",
   "execution_count": 8,
   "id": "69f88297",
   "metadata": {},
   "outputs": [],
   "source": [
    "entry['comment']=None"
   ]
  },
  {
   "cell_type": "code",
   "execution_count": 9,
   "id": "f077c8e3",
   "metadata": {},
   "outputs": [],
   "source": [
    "import time"
   ]
  },
  {
   "cell_type": "code",
   "execution_count": 10,
   "id": "57955e32",
   "metadata": {},
   "outputs": [],
   "source": [
    "entry['published_date']=time.strptime('Fri mar 27 22:20:42 2009')"
   ]
  },
  {
   "cell_type": "code",
   "execution_count": 11,
   "id": "de07a512",
   "metadata": {},
   "outputs": [
    {
     "name": "stdout",
     "output_type": "stream",
     "text": [
      "time.struct_time(tm_year=2009, tm_mon=3, tm_mday=27, tm_hour=22, tm_min=20, tm_sec=42, tm_wday=4, tm_yday=86, tm_isdst=-1)\n"
     ]
    }
   ],
   "source": [
    "print(entry['published_date'])"
   ]
  },
  {
   "cell_type": "code",
   "execution_count": null,
   "id": "c799a344",
   "metadata": {},
   "outputs": [],
   "source": []
  }
 ],
 "metadata": {
  "kernelspec": {
   "display_name": "Python 3 (ipykernel)",
   "language": "python",
   "name": "python3"
  },
  "language_info": {
   "codemirror_mode": {
    "name": "ipython",
    "version": 3
   },
   "file_extension": ".py",
   "mimetype": "text/x-python",
   "name": "python",
   "nbconvert_exporter": "python",
   "pygments_lexer": "ipython3",
   "version": "3.9.13"
  }
 },
 "nbformat": 4,
 "nbformat_minor": 5
}
